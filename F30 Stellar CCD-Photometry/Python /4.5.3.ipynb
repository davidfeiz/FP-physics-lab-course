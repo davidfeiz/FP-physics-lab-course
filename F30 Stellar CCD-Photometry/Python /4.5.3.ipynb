{
 "cells": [
  {
   "cell_type": "code",
   "execution_count": 88,
   "metadata": {
    "collapsed": true
   },
   "outputs": [],
   "source": [
    "import numpy as np\n",
    "from numpy import linalg as la\n",
    "\n",
    "import matplotlib.pyplot as plt\n",
    "%matplotlib inline \n",
    "from scipy.optimize import curve_fit\n",
    "from scipy.stats import chi2\n",
    "from scipy.special import gamma\n",
    "\n",
    "\n",
    "#Plot settings\n",
    "plt.style.use('classic')\n",
    "plt.rcParams[\"font.family\"]='serif'\n",
    "plt.rcParams[\"figure.figsize\"][0] = 14\n",
    "plt.rcParams[\"figure.figsize\"][1] = 9\n",
    "plt.rcParams['errorbar.capsize']=2"
   ]
  },
  {
   "cell_type": "code",
   "execution_count": 89,
   "metadata": {
    "collapsed": true
   },
   "outputs": [],
   "source": [
    "sigma_ro = np.mean([18.94, 18.90])\n",
    "sigma_tot = np.mean([232.0, 232.9])\n",
    "signal_med = np.mean([1347, 1346])\n",
    "sigma_diff = 72.06"
   ]
  },
  {
   "cell_type": "code",
   "execution_count": 90,
   "metadata": {
    "collapsed": false
   },
   "outputs": [
    {
     "name": "stdout",
     "output_type": "stream",
     "text": [
      "47.311260816\n",
      "226.796562364\n"
     ]
    }
   ],
   "source": [
    "sigma_ph = np.sqrt((sigma_diff ** 2) / 2 - sigma_ro ** 2)\n",
    "print(sigma_ph)\n",
    "sigma_prnu = np.sqrt(sigma_tot ** 2 - sigma_ro ** 2 - sigma_ph ** 2)\n",
    "print(sigma_prnu)"
   ]
  },
  {
   "cell_type": "code",
   "execution_count": 91,
   "metadata": {
    "collapsed": false
   },
   "outputs": [
    {
     "name": "stdout",
     "output_type": "stream",
     "text": [
      "1.6623508355\n"
     ]
    }
   ],
   "source": [
    "gain = sigma_ph ** 2 / signal_med #quantum efficiency = 1\n",
    "print(gain)"
   ]
  },
  {
   "cell_type": "code",
   "execution_count": 104,
   "metadata": {
    "collapsed": true
   },
   "outputs": [],
   "source": [
    "median_ind = np.loadtxt(r'C:\\Users\\Quirinus\\Desktop\\all\\all_median.txt', skiprows = 1)\n",
    "stdv = np.loadtxt(r'C:\\Users\\Quirinus\\Desktop\\all\\all_diff_stv.txt', skiprows = 1)\n",
    "l = int(median_ind.size / 2)\n",
    "median = ( median_ind[0:l] + median_ind[l:] ) / 2\n",
    "mask = (median < 35000)\n",
    "median_crop = median[mask]\n",
    "stdv_crop = stdv[mask]"
   ]
  },
  {
   "cell_type": "code",
   "execution_count": 105,
   "metadata": {
    "collapsed": false
   },
   "outputs": [
    {
     "name": "stdout",
     "output_type": "stream",
     "text": [
      "[ 16272.5  18267.   19623.   21645.   23655.5  24999.5  27028.   28367.\n",
      "  30366.5  32363.   33675.   35677.5  37643.   38978.   40950.5  42258.5\n",
      "  44258.   46240.   47531.5  49518.5]\n",
      "[ 55.56  60.    61.85  65.    67.75  69.25  72.06  73.8   75.4   75.65\n",
      "  77.06  75.98  75.91  74.69  73.54  72.85  71.94  70.05  69.13  68.09]\n"
     ]
    }
   ],
   "source": [
    "print(median)\n",
    "print(stdv)"
   ]
  },
  {
   "cell_type": "code",
   "execution_count": 106,
   "metadata": {
    "collapsed": true
   },
   "outputs": [],
   "source": [
    "def sigma_diff(N, sigma_R, kappa):\n",
    "    return (sigma_R ** 2 + N/(kappa ** 2))"
   ]
  },
  {
   "cell_type": "code",
   "execution_count": 109,
   "metadata": {
    "collapsed": false
   },
   "outputs": [
    {
     "name": "stdout",
     "output_type": "stream",
     "text": [
      "[ 25.34382506   2.4765499 ] [ 4.10571882  0.06145732]\n"
     ]
    }
   ],
   "source": [
    "start = [20, 2]\n",
    "popt, pcov = curve_fit(sigma_diff, median_crop, stdv_crop ** 2, p0 = start)\n",
    "perr = np.sqrt(np.diag(pcov))\n",
    "print(popt, perr)"
   ]
  },
  {
   "cell_type": "code",
   "execution_count": 1,
   "metadata": {
    "collapsed": false
   },
   "outputs": [
    {
     "ename": "NameError",
     "evalue": "name 'plt' is not defined",
     "output_type": "error",
     "traceback": [
      "\u001b[0;31m---------------------------------------------------------------------------\u001b[0m",
      "\u001b[0;31mNameError\u001b[0m                                 Traceback (most recent call last)",
      "\u001b[0;32m<ipython-input-1-fa0e34654f3c>\u001b[0m in \u001b[0;36m<module>\u001b[0;34m()\u001b[0m\n\u001b[0;32m----> 1\u001b[0;31m \u001b[0mplt\u001b[0m\u001b[0;34m.\u001b[0m\u001b[0mfigure\u001b[0m\u001b[0;34m(\u001b[0m\u001b[0;36m1\u001b[0m\u001b[0;34m)\u001b[0m\u001b[0;34m\u001b[0m\u001b[0m\n\u001b[0m\u001b[1;32m      2\u001b[0m \u001b[0mplt\u001b[0m\u001b[0;34m.\u001b[0m\u001b[0mplot\u001b[0m\u001b[0;34m(\u001b[0m\u001b[0mmedian\u001b[0m\u001b[0;34m,\u001b[0m \u001b[0mstdv\u001b[0m \u001b[0;34m**\u001b[0m \u001b[0;36m2\u001b[0m\u001b[0;34m,\u001b[0m \u001b[0mlabel\u001b[0m \u001b[0;34m=\u001b[0m \u001b[0;34m'Experimantal data'\u001b[0m\u001b[0;34m)\u001b[0m\u001b[0;34m\u001b[0m\u001b[0m\n\u001b[1;32m      3\u001b[0m \u001b[0mplt\u001b[0m\u001b[0;34m.\u001b[0m\u001b[0mplot\u001b[0m\u001b[0;34m(\u001b[0m\u001b[0mmedian\u001b[0m\u001b[0;34m,\u001b[0m \u001b[0msigma_diff\u001b[0m\u001b[0;34m(\u001b[0m\u001b[0mmedian\u001b[0m\u001b[0;34m,\u001b[0m \u001b[0;34m*\u001b[0m\u001b[0mpopt\u001b[0m\u001b[0;34m)\u001b[0m\u001b[0;34m,\u001b[0m \u001b[0mlabel\u001b[0m \u001b[0;34m=\u001b[0m \u001b[0;34m'Theoretical fit'\u001b[0m\u001b[0;34m)\u001b[0m\u001b[0;34m\u001b[0m\u001b[0m\n\u001b[1;32m      4\u001b[0m \u001b[0mplt\u001b[0m\u001b[0;34m.\u001b[0m\u001b[0mylabel\u001b[0m\u001b[0;34m(\u001b[0m\u001b[0;34m'$\\sigma_{diff}^2$ [counts]'\u001b[0m\u001b[0;34m)\u001b[0m\u001b[0;34m\u001b[0m\u001b[0m\n\u001b[1;32m      5\u001b[0m \u001b[0mplt\u001b[0m\u001b[0;34m.\u001b[0m\u001b[0mxlabel\u001b[0m\u001b[0;34m(\u001b[0m\u001b[0;34m'median signal [counts]'\u001b[0m\u001b[0;34m)\u001b[0m\u001b[0;34m\u001b[0m\u001b[0m\n",
      "\u001b[0;31mNameError\u001b[0m: name 'plt' is not defined"
     ]
    }
   ],
   "source": [
    "plt.figure(1)\n",
    "plt.plot(median, stdv ** 2, label = 'Experimantal data')\n",
    "plt.plot(median, sigma_diff(median, *popt), label = 'Theoretical fit')\n",
    "plt.ylabel('$\\sigma_{diff}^2$ [counts]')\n",
    "plt.xlabel('median signal [counts]')\n",
    "plt.legend(loc = 'best')\n",
    "plt.title('Gain factor')"
   ]
  },
  {
   "cell_type": "code",
   "execution_count": null,
   "metadata": {
    "collapsed": true
   },
   "outputs": [],
   "source": []
  },
  {
   "cell_type": "code",
   "execution_count": null,
   "metadata": {
    "collapsed": true
   },
   "outputs": [],
   "source": []
  }
 ],
 "metadata": {
  "kernelspec": {
   "display_name": "Python 3",
   "language": "python",
   "name": "python3"
  },
  "language_info": {
   "codemirror_mode": {
    "name": "ipython",
    "version": 3
   },
   "file_extension": ".py",
   "mimetype": "text/x-python",
   "name": "python",
   "nbconvert_exporter": "python",
   "pygments_lexer": "ipython3",
   "version": "3.6.0"
  }
 },
 "nbformat": 4,
 "nbformat_minor": 2
}
