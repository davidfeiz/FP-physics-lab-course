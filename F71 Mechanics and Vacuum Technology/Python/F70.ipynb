{
 "cells": [
  {
   "cell_type": "markdown",
   "metadata": {},
   "source": [
    "# F70/71: Mechanics and Vacuum Technology"
   ]
  },
  {
   "cell_type": "markdown",
   "metadata": {},
   "source": [
    "Experiment carried out by Mathieu Kaltschmidt and Quirinus Schwarzenböck at INF501 in Heidelberg on the 3rd/4th of September 2018. <br>\n",
    "\n",
    "__Supervisor:__ ? <br>"
   ]
  },
  {
   "cell_type": "code",
   "execution_count": 5,
   "metadata": {
    "collapsed": true
   },
   "outputs": [],
   "source": [
    "import numpy as np\n",
    "from numpy import linalg as la\n",
    "\n",
    "import matplotlib.pyplot as plt\n",
    "%matplotlib inline \n",
    "from scipy.optimize import curve_fit\n",
    "from scipy.stats import chi2\n",
    "from scipy.special import gamma\n",
    "\n",
    "\n",
    "#Plot settings\n",
    "plt.style.use('classic')\n",
    "plt.rcParams[\"font.family\"]='serif'\n",
    "plt.rcParams[\"figure.figsize\"][0] = 14\n",
    "plt.rcParams[\"figure.figsize\"][1] = 9\n",
    "plt.rcParams['errorbar.capsize']=2"
   ]
  },
  {
   "cell_type": "markdown",
   "metadata": {},
   "source": [
    "## Throughout of the TMP"
   ]
  },
  {
   "cell_type": "code",
   "execution_count": 6,
   "metadata": {
    "collapsed": false
   },
   "outputs": [],
   "source": [
    "#DATA\n",
    "#pressure, throughput =np.loadtxt(r'DATA/throughput.txt', skiprows=1, unpack=True)\n",
    "\n",
    "#Errors???"
   ]
  },
  {
   "cell_type": "code",
   "execution_count": 7,
   "metadata": {
    "collapsed": false
   },
   "outputs": [],
   "source": [
    "#Fitting\n",
    "\n",
    "#def fitfunc():\n",
    "#    return ###\n",
    "\n",
    "#fitrange = np.linspace(0.0035,0.0057,100) #ANPASSEN!\n",
    "#popt,pcov= curve_fit(fitfunc,pressure,throughput) ### , sigma= "
   ]
  },
  {
   "cell_type": "code",
   "execution_count": 8,
   "metadata": {
    "collapsed": false
   },
   "outputs": [],
   "source": [
    "#Plotting\n",
    "\n",
    "#plt.errorbar(pressure, throughput, yerr= ,linewidth=1,linestyle='',marker='.',color='darkblue',label='Measured values with corresponding errors')\n",
    "#plt.plot(fitrange,fitfunc(fitrange,*popt),color='red', label='Fit with theoretical curve: $y = $')\n",
    "#plt.xlim(0.0035,0.0056)\n",
    "#plt.ylim(1e-5,12)\n",
    "#plt.xscale('log')\n",
    "#plt.title(\"The throughout of the TMP\", size = 20)\n",
    "#plt.xlabel(r'Pressure in [mbar]', size=16)\n",
    "#plt.ylabel(r'Throughput in [mbar$\\cdot$ $m^3$ \\cdot $s^{-1}$]', size=16)\n",
    "\n",
    "#plt.legend(frameon=True,fontsize='large', borderpad=1.5, borderaxespad=1.5,loc='best')\n",
    "#plt.text(0.00355,2e-5, \"Determined value from fit: $Q = ( \\pm error)$ eV\",bbox={'facecolor':'white', 'alpha':0.5, 'pad':10},size=16)\n",
    "#plt.grid(ls='dotted')\n",
    "\n",
    "#Saving figure\n",
    "#plt.tight_layout()\n",
    "#plt.savefig('Plots/throughput.pdf', format='PDF')"
   ]
  },
  {
   "cell_type": "markdown",
   "metadata": {},
   "source": [
    "## Measurement of the conductance of several pipes"
   ]
  },
  {
   "cell_type": "code",
   "execution_count": 9,
   "metadata": {
    "collapsed": true
   },
   "outputs": [],
   "source": [
    "#DATA\n",
    "#pressure2, conductance =np.loadtxt(r'DATA/conductance.txt', skiprows=1, unpack=True)\n",
    "\n",
    "#Errors???"
   ]
  },
  {
   "cell_type": "code",
   "execution_count": 10,
   "metadata": {
    "collapsed": true
   },
   "outputs": [],
   "source": [
    "#Fitting\n",
    "\n",
    "#def fitfunc2():\n",
    "#    return ###\n",
    "\n",
    "#fitrange2 = np.linspace(0.0035,0.0057,100) #ANPASSEN!\n",
    "#popt2,pcov2= curve_fit(fitfunc,pressure,throughput) ### , sigma= )"
   ]
  },
  {
   "cell_type": "code",
   "execution_count": 11,
   "metadata": {
    "collapsed": true
   },
   "outputs": [],
   "source": [
    "#Plotting\n",
    "\n",
    "#plt.errorbar(pressure2, conductance, yerr= ,linewidth=1,linestyle='',marker='.',color='darkblue',label='Measured values with corresponding errors')\n",
    "#plt.plot(fitrange2,fitfunc2(fitrange2,*popt2),color='red', label='Fit with theoretical curve: $y = $')\n",
    "#plt.xlim(0.0035,0.0056)\n",
    "#plt.ylim(1e-5,12)\n",
    "#plt.xscale('log')\n",
    "#plt.title(\"Conductance of several pipes\", size = 20)\n",
    "#plt.xlabel(r'Pressure in [mbar]', size=16)\n",
    "#plt.ylabel(r'Conductance in [S$]', size=16)\n",
    "\n",
    "#plt.legend(frameon=True,fontsize='large', borderpad=1.5, borderaxespad=1.5,loc='best')\n",
    "#plt.text(0.00355,2e-5, \"Determined value from fit: $Q = ( \\pm error)$ eV\",bbox={'facecolor':'white', 'alpha':0.5, 'pad':10},size=16)\n",
    "#plt.grid(ls='dotted')\n",
    "\n",
    "#Saving figure\n",
    "#plt.tight_layout()\n",
    "#plt.savefig('Plots/conductances.pdf', format='PDF')"
   ]
  },
  {
   "cell_type": "code",
   "execution_count": null,
   "metadata": {
    "collapsed": true
   },
   "outputs": [],
   "source": []
  }
 ],
 "metadata": {
  "kernelspec": {
   "display_name": "Python 3",
   "language": "python",
   "name": "python3"
  },
  "language_info": {
   "codemirror_mode": {
    "name": "ipython",
    "version": 3
   },
   "file_extension": ".py",
   "mimetype": "text/x-python",
   "name": "python",
   "nbconvert_exporter": "python",
   "pygments_lexer": "ipython3",
   "version": "3.6.0"
  }
 },
 "nbformat": 4,
 "nbformat_minor": 2
}
