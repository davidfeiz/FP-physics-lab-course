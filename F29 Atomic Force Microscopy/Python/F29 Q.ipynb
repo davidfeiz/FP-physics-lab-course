{
 "cells": [
  {
   "cell_type": "markdown",
   "metadata": {},
   "source": [
    "# CCD-Chip"
   ]
  },
  {
   "cell_type": "code",
   "execution_count": 1,
   "metadata": {
    "collapsed": true
   },
   "outputs": [],
   "source": [
    "import numpy as np\n",
    "import matplotlib.pyplot as plt"
   ]
  },
  {
   "cell_type": "code",
   "execution_count": 111,
   "metadata": {
    "collapsed": true
   },
   "outputs": [],
   "source": [
    "R0 = np.loadtxt(r'C:\\Users\\Quirinus\\Desktop\\CCD.csv',usecols = 3, delimiter = ',', skiprows = 1, unpack = True)\n",
    "R = np.mean(R0)\n",
    "R_err = np.std(R0)"
   ]
  },
  {
   "cell_type": "code",
   "execution_count": 120,
   "metadata": {
    "collapsed": false
   },
   "outputs": [
    {
     "name": "stdout",
     "output_type": "stream",
     "text": [
      "The Area of one Pixel is (2.34e-11 +- 3e-13) m^2.\n"
     ]
    }
   ],
   "source": [
    "A = R ** 2 * (4/9) #Area of one \"Pixel\", 4 Diodes\n",
    "A_err = 2 * A * (R_err / R)\n",
    "A_chip = 38.2e-6\n",
    "A_chip_err = 0.6e-6\n",
    "print('The Area of one Pixel is (%.2e +- %.0e) m^2.' %(A, A_err))"
   ]
  },
  {
   "cell_type": "code",
   "execution_count": 110,
   "metadata": {
    "collapsed": false
   },
   "outputs": [
    {
     "name": "stdout",
     "output_type": "stream",
     "text": [
      "The chip has 1.64e+06 +- 3e+04 pixels.\n"
     ]
    }
   ],
   "source": [
    "N = A_chip / A\n",
    "N_err = N * np.sqrt((A_chip_err / A_chip) ** 2 + (A_err / A) ** 2)\n",
    "print('The chip has %.2e +- %.0e pixels.' %(N, N_err))"
   ]
  },
  {
   "cell_type": "markdown",
   "metadata": {},
   "source": [
    "Each pixel is a combination of 4 light sensors. Usually two of them measuring green light, and one is for red and blue light."
   ]
  },
  {
   "cell_type": "markdown",
   "metadata": {},
   "source": [
    "# Optical Memory Media"
   ]
  },
  {
   "cell_type": "code",
   "execution_count": 62,
   "metadata": {
    "collapsed": true
   },
   "outputs": [],
   "source": [
    "r_small = 0.025 #inner diameter, where data storage starts\n",
    "r_big = 0.058 #outer diameter, no more data can be stored"
   ]
  },
  {
   "cell_type": "code",
   "execution_count": 78,
   "metadata": {
    "collapsed": true
   },
   "outputs": [],
   "source": [
    "def spirallen(a, phi): #arc length fo a normal spiral\n",
    "    s = a / (4 * np.pi) * (np.log(np.sqrt(phi ** 2 + 1) + phi) + phi * np.sqrt(phi ** 2 + 1))\n",
    "    return s \n",
    "def arclen(a): #Length of the spiral with data on it\n",
    "    phi1 = r_small / a * 2 * np.pi\n",
    "    phi2 = r_big / a * 2 * np.pi\n",
    "    return spirallen(a, phi2) - spirallen(a, phi1)"
   ]
  },
  {
   "cell_type": "markdown",
   "metadata": {},
   "source": [
    "## CD"
   ]
  },
  {
   "cell_type": "code",
   "execution_count": 127,
   "metadata": {
    "collapsed": false
   },
   "outputs": [
    {
     "name": "stdout",
     "output_type": "stream",
     "text": [
      "One pit has a length of (1.599e-06 +- 2.6e-08) m\n",
      "The distance between two spiral arms is (1.11e-06 +- 2.4e-07) m\n"
     ]
    }
   ],
   "source": [
    "x0, Rcd0 = np.loadtxt(r'C:\\Users\\Quirinus\\Desktop\\CD.csv',usecols = (0, 3), delimiter = ',', skiprows = 1, unpack = True)\n",
    "Rcd1 = Rcd0[0:6]\n",
    "Rcd, Rcd_err = np.mean(R1), np.std(R1) #length of one pit\n",
    "x1 = x0[6:]\n",
    "x, x_err = np.mean(x1), np.std(x1) #width of the spiral\n",
    "print('One pit has a length of (%.3e +- %.1e) m' %(x, x_err))\n",
    "print('The distance between two spiral arms is (%.2e +- %.1e) m' %(Rcd, Rcd_err))"
   ]
  },
  {
   "cell_type": "code",
   "execution_count": 129,
   "metadata": {
    "collapsed": false
   },
   "outputs": [
    {
     "name": "stdout",
     "output_type": "stream",
     "text": [
      "The total legth of the spiral is (5.38e+03 +- 9e+01) m\n"
     ]
    }
   ],
   "source": [
    "s = arclen(x)\n",
    "s_err = max(abs(arclen(x + x_err) - s), abs(arclen(x - x_err) - s))\n",
    "print('The total legth of the spiral is (%.2e +- %.0e) m' %(s, s_err))"
   ]
  },
  {
   "cell_type": "markdown",
   "metadata": {},
   "source": [
    "### Capacity"
   ]
  },
  {
   "cell_type": "code",
   "execution_count": 124,
   "metadata": {
    "collapsed": false
   },
   "outputs": [
    {
     "name": "stdout",
     "output_type": "stream",
     "text": [
      "The CD has a capacity of (4.6e+02 +- 1.0e+02) MB\n"
     ]
    }
   ],
   "source": [
    "bits = s / Rcd\n",
    "bits_err = bits * np.sqrt((s_err / s) ** 2 + (Rcd_err / Rcd) ** 2)\n",
    "mbytes = bits * 0.1 / 1024 ** 2 # Assuming two bits of redundance for each byte\n",
    "mbytes_err = mbytes * bits_err / bits\n",
    "print('The CD has a capacity of (%.1e +- %.1e) MB' %(mbytes, mbytes_err))"
   ]
  },
  {
   "cell_type": "markdown",
   "metadata": {},
   "source": [
    "## DVD"
   ]
  },
  {
   "cell_type": "code",
   "execution_count": 145,
   "metadata": {
    "collapsed": false
   },
   "outputs": [
    {
     "name": "stdout",
     "output_type": "stream",
     "text": [
      "One pit has a length of (7.33e-07 +- 1.3e-08) m\n",
      "The distance between two spiral arms is (4.9e-07 +- 5e-08) m\n"
     ]
    }
   ],
   "source": [
    "y0, Rdvd0 = np.loadtxt(r'C:\\Users\\Quirinus\\Desktop\\DVD.csv',usecols = (0, 3), delimiter = ',', skiprows = 1, unpack = True)\n",
    "Rdvd1 = abs(Rdvd0[15:]) * 10 ** -9\n",
    "Rdvd, Rdvd_err = np.mean(Rdvd1), np.std(Rdvd1) #length of one pit\n",
    "y1 = abs(y0[:15]) * 10 ** -9\n",
    "y, y_err = np.mean(y1), np.std(y1) #width of the spiral\n",
    "print('One pit has a length of (%.2e +- %.1e) m' %(y, y_err))\n",
    "print('The distance between two spiral arms is (%.1e +- %.0e) m' %(Rdvd, Rdvd_err))"
   ]
  },
  {
   "cell_type": "code",
   "execution_count": 146,
   "metadata": {
    "collapsed": true
   },
   "outputs": [],
   "source": [
    "t = arclen(y)\n",
    "t_err = max(abs(arclen(y + y_err) - t), abs(arclen(y - y_err) - t))"
   ]
  },
  {
   "cell_type": "code",
   "execution_count": 147,
   "metadata": {
    "collapsed": false
   },
   "outputs": [
    {
     "name": "stdout",
     "output_type": "stream",
     "text": [
      "The DVD has a capacity of (2.21e+00 +- 2.2e-01) GB\n"
     ]
    }
   ],
   "source": [
    "bits = t / Rdvd\n",
    "bits_err = bits * np.sqrt((t_err / t) ** 2 + (Rdvd_err / Rdvd) ** 2)\n",
    "gbytes = bits * 0.1 / 1024 ** 3 # Assuming two bits of redundance for each byte\n",
    "gbytes_err = gbytes * bits_err / bits\n",
    "print('The DVD has a capacity of (%.2e +- %.1e) GB' %(gbytes, gbytes_err))"
   ]
  },
  {
   "cell_type": "markdown",
   "metadata": {},
   "source": [
    "# Nano Lattice"
   ]
  },
  {
   "cell_type": "code",
   "execution_count": 170,
   "metadata": {
    "collapsed": true
   },
   "outputs": [],
   "source": [
    "d0, h0 = np.loadtxt(r'C:\\Users\\Quirinus\\Desktop\\lattice 1.txt',usecols = (3, 4), delimiter = ',', skiprows = 1, unpack = True)\n",
    "d1 = abs(d0[:5])\n",
    "h1 = abs(h0[5:10])\n",
    "a1 = abs(d0[10:])\n",
    "d, d_err = np.mean(d1), np.std(d1)\n",
    "h, h_err = np.mean(h1), np.std(h1)\n",
    "a, a_err = np.mean(a1), np.std(a1)"
   ]
  },
  {
   "cell_type": "code",
   "execution_count": 172,
   "metadata": {
    "collapsed": false
   },
   "outputs": [
    {
     "name": "stdout",
     "output_type": "stream",
     "text": [
      "The diameter of the features is (2.26e-07 +- 8e-09) m\n",
      "The depth of the features is (4.3e-08 +- 6e-09) m\n",
      "The distance between two features is (8.8e-08 +- 5e-09) m\n"
     ]
    }
   ],
   "source": [
    "print('The diameter of the features is (%.2e +- %.0e) m' %(d, d_err))\n",
    "print('The depth of the features is (%.1e +- %.0e) m' %(h, h_err))\n",
    "print('The distance between two features is (%.1e +- %.0e) m' %(a, a_err))"
   ]
  },
  {
   "cell_type": "code",
   "execution_count": 164,
   "metadata": {
    "collapsed": true
   },
   "outputs": [],
   "source": [
    "d0, h0 = np.loadtxt(r'C:\\Users\\Quirinus\\Desktop\\lattice 2.txt',usecols = (3, 4), delimiter = ',', skiprows = 1, unpack = True)\n",
    "d1 = abs(d0[:8])\n",
    "h1 = abs(h0[12:])\n",
    "a1 = abs(d0[8:12])\n",
    "d, d_err = np.mean(d1), np.std(d1)\n",
    "h, h_err = np.mean(h1), np.std(h1)\n",
    "a, a_err = np.mean(a1), np.std(a1)"
   ]
  },
  {
   "cell_type": "code",
   "execution_count": 168,
   "metadata": {
    "collapsed": false
   },
   "outputs": [
    {
     "name": "stdout",
     "output_type": "stream",
     "text": [
      "The diameter of the features is (2.77e-07 +- 2.9e-08) m\n",
      "The depth of the features is (2.06e-07 +- 1.2e-08) m\n",
      "The distance between two features is (6.33e-07 +- 2.4e-08) m\n"
     ]
    }
   ],
   "source": [
    "print('The diameter of the features is (%.2e +- %.1e) m' %(d, d_err))\n",
    "print('The depth of the features is (%.2e +- %.1e) m' %(h, h_err))\n",
    "print('The distance between two features is (%.2e +- %.1e) m' %(a, a_err))"
   ]
  },
  {
   "cell_type": "code",
   "execution_count": null,
   "metadata": {
    "collapsed": true
   },
   "outputs": [],
   "source": []
  }
 ],
 "metadata": {
  "kernelspec": {
   "display_name": "Python 3",
   "language": "python",
   "name": "python3"
  },
  "language_info": {
   "codemirror_mode": {
    "name": "ipython",
    "version": 3
   },
   "file_extension": ".py",
   "mimetype": "text/x-python",
   "name": "python",
   "nbconvert_exporter": "python",
   "pygments_lexer": "ipython3",
   "version": "3.6.0"
  }
 },
 "nbformat": 4,
 "nbformat_minor": 2
}
